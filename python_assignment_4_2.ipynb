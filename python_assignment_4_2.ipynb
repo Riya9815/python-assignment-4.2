{
  "nbformat": 4,
  "nbformat_minor": 0,
  "metadata": {
    "colab": {
      "name": "python assignment 4.2",
      "provenance": []
    },
    "kernelspec": {
      "name": "python3",
      "display_name": "Python 3"
    },
    "language_info": {
      "name": "python"
    }
  },
  "cells": [
    {
      "cell_type": "code",
      "metadata": {
        "id": "MUikRyfT_Tnb"
      },
      "source": [
        "class Triangle:\n",
        "    def __init__(self):\n",
        "        number_of_sides=['a','b','c']\n",
        "        self.TriangleSides=number_of_sides\n",
        "        \n",
        "    def sides_Of_Triangle(self):\n",
        "        self.sides_Of_Traingle=[input(\"Enter the Side \"+i+\" :\") for i in self.TriangleSides]\n",
        "class Traingle_Area(Triangle):\n",
        "    def __init__(self):\n",
        "        Triangle.__init__(self)\n",
        "        \n",
        "    def area_Of_Triangle(self):\n",
        "        triangleSides=iter(self.sides_Of_Traingle)\n",
        "        a=float(next(triangleSides))\n",
        "        b=float(next(triangleSides))\n",
        "        c=float(next(triangleSides))        \n",
        "        s= (a+b+c)*0.5        \n",
        "        # Area of Triangle         \n",
        "        Area = (s*(s-a)*(s-b)*(s-c))**0.5    \n",
        "        print(\"The sides of triangle are a=\"+str(a)+\", b=\"+str(b)+\", c=\"+str(c))     \n",
        "        Area = ('The Area of the triangle is %0.2f' %Area )\n",
        "        #return Area\n",
        "        print(Area)"
      ],
      "execution_count": 7,
      "outputs": []
    },
    {
      "cell_type": "code",
      "metadata": {
        "id": "nXUR46l0DEmE"
      },
      "source": [
        ""
      ],
      "execution_count": 7,
      "outputs": []
    },
    {
      "cell_type": "code",
      "metadata": {
        "colab": {
          "base_uri": "https://localhost:8080/"
        },
        "id": "aH8y6EjqDhqJ",
        "outputId": "830d2b2b-c914-4bbd-cd40-330e7a7b1403"
      },
      "source": [
        "\n",
        "def filter_long_words(WordList,n):\n",
        "    Wordlist=[x.strip() for x in WordList if len(x.strip())>n]\n",
        "    \n",
        "    if(len(Wordlist)>0):\n",
        "        print(\"\\n The List of longest words , which  are longer than \"+str(n)+\" is :\")\n",
        "        return Wordlist\n",
        "    else:\n",
        "        return \"No Words longer than specified number \"+str(n)\n",
        "\n",
        "print(\"Input:\")\n",
        "string= input(\"Please enter your words: \")\n",
        "number= int(input(\"Please enter your number: \"))\n",
        "\n",
        "list_Of_Words = list(string.split(\",\"))\n",
        "#Function Execution\n",
        "filter_long_words(list_Of_Words,number)"
      ],
      "execution_count": 8,
      "outputs": [
        {
          "output_type": "stream",
          "text": [
            "Input:\n",
            "Please enter your words: Taj Mahal, Bhopal , City, Ajmer\n",
            "Please enter your number: 4\n",
            "\n",
            " The List of longest words , which  are longer than 4 is :\n"
          ],
          "name": "stdout"
        },
        {
          "output_type": "execute_result",
          "data": {
            "text/plain": [
              "['Taj Mahal', 'Bhopal', 'Ajmer']"
            ]
          },
          "metadata": {
            "tags": []
          },
          "execution_count": 8
        }
      ]
    },
    {
      "cell_type": "code",
      "metadata": {
        "id": "DLlLZLfSVQn6",
        "outputId": "36d919ce-6a45-4704-e821-4f08f9a28f30",
        "colab": {
          "base_uri": "https://localhost:8080/"
        }
      },
      "source": [
        "\n",
        "#Solution\n",
        "\n",
        "#Solution Approach_1\n",
        "#Function to map length of words with words \n",
        "def map_Words_to_Length(List):\n",
        "    return list(map(len, List))\n",
        "\n",
        "word_List=list(input(\"Input : Please enter Words : \").split(\",\"))\n",
        "#List Comprehension has been done to remove white trailing white spaces\n",
        "List=[x.strip() for x in word_List]\n",
        "#function Execution\n",
        "Words_lengths=map_Words_to_Length(List)\n",
        "\n",
        "print(\"Output: Length of Words are :\",Words_lengths )\n"
      ],
      "execution_count": 4,
      "outputs": [
        {
          "output_type": "stream",
          "text": [
            "Input : Please enter Words : ab,cde,erty\n",
            "Output: Length of Words are : [2, 3, 4]\n"
          ],
          "name": "stdout"
        }
      ]
    },
    {
      "cell_type": "code",
      "metadata": {
        "id": "TgytjFrIWatg",
        "outputId": "2a839ba1-bfce-4412-dd9d-6b99f26b21a0",
        "colab": {
          "base_uri": "https://localhost:8080/"
        }
      },
      "source": [
        "\n",
        "def vowel_checker(inputChar):\n",
        "    return_value=''\n",
        "    if(len(inputChar)==1):\n",
        "        vowel_list=['a','e','i','o','u']\n",
        "        if (inputChar.lower() in vowel_list):\n",
        "            return_value= True\n",
        "        else:\n",
        "            return_value= False\n",
        "    else:\n",
        "        return_value=\"Please enter single character only!\"        \n",
        "    return return_value\n",
        "\n",
        "print(\"Enter character to check that it is Vowel or not\")\n",
        "input_value = input(\"Input Value: \")\n",
        "#Function Execution\n",
        "output_value=vowel_checker(input_value) \n",
        "#Output\n",
        "print(\"Output Value:\",output_value)"
      ],
      "execution_count": 5,
      "outputs": [
        {
          "output_type": "stream",
          "text": [
            "Enter character to check that it is Vowel or not\n",
            "Input Value: a\n",
            "Output Value: True\n"
          ],
          "name": "stdout"
        }
      ]
    },
    {
      "cell_type": "code",
      "metadata": {
        "id": "3sFrSImyXxm_",
        "outputId": "bb16e8c7-067d-420a-a86e-fdc5aa3a68e4",
        "colab": {
          "base_uri": "https://localhost:8080/"
        }
      },
      "source": [
        "\n",
        "print(\"Enter character to check that it is Vowel or not\")\n",
        "input_value = input(\"Input Value: \")\n",
        "output_value=vowel_checker(input_value) \n",
        "\n",
        "print(\"Output Value:\",output_value)"
      ],
      "execution_count": 6,
      "outputs": [
        {
          "output_type": "stream",
          "text": [
            "Enter character to check that it is Vowel or not\n",
            "Input Value: b\n",
            "Output Value: False\n"
          ],
          "name": "stdout"
        }
      ]
    },
    {
      "cell_type": "code",
      "metadata": {
        "id": "_70kD6rbX1bP"
      },
      "source": [
        ""
      ],
      "execution_count": null,
      "outputs": []
    }
  ]
}